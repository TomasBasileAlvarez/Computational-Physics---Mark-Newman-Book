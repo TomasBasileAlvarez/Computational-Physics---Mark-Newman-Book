{
 "cells": [
  {
   "cell_type": "markdown",
   "id": "d3003604",
   "metadata": {},
   "source": [
    "# 8 Random Numbers"
   ]
  },
  {
   "cell_type": "code",
   "execution_count": 1,
   "id": "204584ae",
   "metadata": {},
   "outputs": [
    {
     "name": "stdout",
     "output_type": "stream",
     "text": [
      "1\n",
      "0\n",
      "4\n",
      "3\n"
     ]
    }
   ],
   "source": [
    "import random\n",
    "\n",
    "random.seed(42)\n",
    "for i in range(4):\n",
    "    print(random.randrange(10))\n",
    "\n",
    "\n"
   ]
  },
  {
   "cell_type": "code",
   "execution_count": 2,
   "id": "710cadc3",
   "metadata": {},
   "outputs": [
    {
     "data": {
      "image/png": "[encoded data removed]",
      "text/plain": [
       "<Figure size 432x288 with 1 Axes>"
      ]
     },
     "metadata": {
      "needs_background": "light"
     },
     "output_type": "display_data"
    }
   ],
   "source": [
    "from random import random\n",
    "from numpy import arange\n",
    "from pylab import plot,xlabel,ylabel,show\n",
    "\n",
    "# Constants\n",
    "NTl = 1000            # Number of thallium atoms\n",
    "NPb = 0               # Number of lead atoms\n",
    "tau = 3.053*60        # Half life of thallium in seconds\n",
    "h = 1.0               # Size of time-step in seconds\n",
    "p = 1 - 2**(-h/tau)   # Probability of decay in one step\n",
    "tmax = 1000           # Total time\n",
    "\n",
    "# Lists of plot points\n",
    "tpoints = arange(0.0,tmax,h)\n",
    "Tlpoints = []\n",
    "Pbpoints = []\n",
    "\n",
    "# Main loop\n",
    "for t in tpoints:\n",
    "    Tlpoints.append(NTl)\n",
    "    Pbpoints.append(NPb)\n",
    "\n",
    "    # Calculate the number of atoms that decay\n",
    "    decay = 0\n",
    "    for i in range(NTl):\n",
    "        if random()<p:\n",
    "            decay += 1\n",
    "    NTl -= decay\n",
    "    NPb += decay\n",
    "\n",
    "# Make the graph\n",
    "plot(tpoints,Tlpoints)\n",
    "plot(tpoints,Pbpoints)\n",
    "xlabel(\"Time\")\n",
    "ylabel(\"Number of atoms\")\n",
    "show()"
   ]
  },
  {
   "cell_type": "markdown",
   "id": "fdb34121",
   "metadata": {},
   "source": [
    "__Gaussian Random Numbers__\n",
    "\n",
    "The Gaussian Distribution is $p(x) = \\dfrac{1}{\\sqrt{2 \\pi \\sigma^2}} e^{- \\dfrac{x^2}{2 \\sigma^2}}$ <br>\n",
    "\n",
    "__Rutherford Scattering__"
   ]
  },
  {
   "cell_type": "code",
   "execution_count": 3,
   "id": "d47d1ba9",
   "metadata": {},
   "outputs": [
    {
     "name": "stdout",
     "output_type": "stream",
     "text": [
      "1570 particles were reflected out of 1000000\n"
     ]
    }
   ],
   "source": [
    "from math import sqrt,log,cos,sin,pi\n",
    "from random import random\n",
    "\n",
    "# Constants\n",
    "Z = 79\n",
    "e = 1.602e-19\n",
    "E = 7.7e6*e\n",
    "epsilon0 = 8.854e-12\n",
    "a0 = 5.292e-11\n",
    "sigma = a0/100\n",
    "N = 1000000\n",
    "\n",
    "# Function to generate two Gaussian random numbers\n",
    "def gaussian():\n",
    "    r = sqrt(-2*sigma*sigma*log(1-random()))\n",
    "    theta = 2*pi*random()\n",
    "    x = r*cos(theta)\n",
    "    y = r*sin(theta)\n",
    "    return x,y\n",
    "\n",
    "# Main program\n",
    "count = 0\n",
    "for i in range(N):\n",
    "    x,y = gaussian()\n",
    "    b = sqrt(x*x+y*y)\n",
    "    if b<Z*e*e/(2*pi*epsilon0*E):\n",
    "        count += 1\n",
    "\n",
    "print(count,\"particles were reflected out of\",N)"
   ]
  },
  {
   "cell_type": "code",
   "execution_count": null,
   "id": "fb5d4a0c",
   "metadata": {},
   "outputs": [],
   "source": []
  }
 ],
 "metadata": {
  "kernelspec": {
   "display_name": "Python 3",
   "language": "python",
   "name": "python3"
  },
  "language_info": {
   "codemirror_mode": {
    "name": "ipython",
    "version": 3
   },
   "file_extension": ".py",
   "mimetype": "text/x-python",
   "name": "python",
   "nbconvert_exporter": "python",
   "pygments_lexer": "ipython3",
   "version": "3.7.7rc1"
  }
 },
 "nbformat": 4,
 "nbformat_minor": 5
}
