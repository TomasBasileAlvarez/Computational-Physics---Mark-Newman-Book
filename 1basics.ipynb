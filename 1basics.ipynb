{
 "cells": [
  {
   "cell_type": "markdown",
   "id": "d0ec8817",
   "metadata": {},
   "source": [
    "# 1 Basics\n",
    "\n",
    "Reading info from a file"
   ]
  },
  {
   "cell_type": "code",
   "execution_count": 1,
   "id": "141aef9a",
   "metadata": {},
   "outputs": [
    {
     "name": "stdout",
     "output_type": "stream",
     "text": [
      "[[1. 2. 3. 4.]\n",
      " [4. 4. 3. 6.]\n",
      " [4. 9. 9. 9.]]\n"
     ]
    }
   ],
   "source": [
    "import numpy as np\n",
    "a= np.loadtxt(\"values.txt\",float)\n",
    "print(a)"
   ]
  },
  {
   "cell_type": "markdown",
   "id": "9c961f5f",
   "metadata": {},
   "source": [
    "Arithmetic with arrays"
   ]
  },
  {
   "cell_type": "code",
   "execution_count": 2,
   "id": "56191014",
   "metadata": {},
   "outputs": [
    {
     "name": "stdout",
     "output_type": "stream",
     "text": [
      "[1 2 3 4]\n",
      "[2 4 6 8]\n",
      "[3 5 7 9]\n",
      "[ 2  8 18 32]\n",
      "60\n"
     ]
    }
   ],
   "source": [
    "a = np.array([1,2,3,4],int)\n",
    "b = 2*a\n",
    "print(a)\n",
    "print(b)\n",
    "print(b+1)\n",
    "print(b*a)\n",
    "print(np.dot(a,b))"
   ]
  },
  {
   "cell_type": "code",
   "execution_count": 3,
   "id": "32704d1d",
   "metadata": {},
   "outputs": [
    {
     "name": "stdout",
     "output_type": "stream",
     "text": [
      "[[-3  5]\n",
      " [ 0  2]]\n"
     ]
    }
   ],
   "source": [
    "a= np.array([[1,3],[2,4]],int)\n",
    "b = np.array([[4,-2],[-3,1]])\n",
    "c = np.array([[1,2],[2,1]])\n",
    "print(np.dot(a,b)+2*c)"
   ]
  },
  {
   "cell_type": "code",
   "execution_count": 4,
   "id": "63c2b778",
   "metadata": {},
   "outputs": [
    {
     "name": "stdout",
     "output_type": "stream",
     "text": [
      "[1.41421356 1.73205081 2.         2.23606798]\n"
     ]
    }
   ],
   "source": [
    "import math\n",
    "a=np.array([2,3,4,5])\n",
    "b = np.array(list(map(math.sqrt,a)),float)\n",
    "print(b)"
   ]
  },
  {
   "cell_type": "code",
   "execution_count": 5,
   "id": "21120b19",
   "metadata": {},
   "outputs": [
    {
     "name": "stdout",
     "output_type": "stream",
     "text": [
      "[[1. 2. 3. 4.]\n",
      " [4. 4. 3. 6.]\n",
      " [4. 9. 9. 9.]]\n",
      "[3.         5.         5.         6.33333333]\n"
     ]
    }
   ],
   "source": [
    "# average of a set of values in a file\n",
    "\n",
    "values= np.loadtxt(\"values.txt\",float)\n",
    "mean = sum(values)/len(values)\n",
    "# hace los promedios verticales\n",
    "print(values)\n",
    "print(mean)"
   ]
  },
  {
   "cell_type": "code",
   "execution_count": null,
   "id": "4f9ec5d6",
   "metadata": {},
   "outputs": [],
   "source": [
    " "
   ]
  }
 ],
 "metadata": {
  "kernelspec": {
   "display_name": "Python 3",
   "language": "python",
   "name": "python3"
  },
  "language_info": {
   "codemirror_mode": {
    "name": "ipython",
    "version": 3
   },
   "file_extension": ".py",
   "mimetype": "text/x-python",
   "name": "python",
   "nbconvert_exporter": "python",
   "pygments_lexer": "ipython3",
   "version": "3.7.7rc1"
  }
 },
 "nbformat": 4,
 "nbformat_minor": 5
}
